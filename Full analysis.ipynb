{
 "cells": [
  {
   "cell_type": "raw",
   "metadata": {
    "deletable": true,
    "editable": true
   },
   "source": [
    "# Create a plot for a target\n",
    "Build a bar plot where gruoped by species and the input file is the frequency of each scaffold after doing calculation with Cote's script. "
   ]
  },
  {
   "cell_type": "code",
   "execution_count": null,
   "metadata": {
    "collapsed": false,
    "deletable": true,
    "editable": true,
    "scrolled": true
   },
   "outputs": [],
   "source": [
    "import pandas as pd\n",
    "import numpy as np\n",
    "import os\n",
    "from matplotlib import pyplot as plt\n",
    "from rdkit import Chem\n",
    "from rdkit.Chem import PandasTools\n",
    "from rdkit import RDConfig\n",
    "from rdkit import DataStructs\n",
    "from rdkit.Chem.Fingerprints import FingerprintMols\n",
    "from itertools import *\n",
    "\n",
    "d1 = pd.read_csv('/home/uxue/Documents/Master_Thesis/Second_step/scaffold_extraction/input_files/Homo sapiens.txt', sep=\"\\t\", header=0)\n",
    "d2 = pd.read_csv('/home/uxue/Documents/Master_Thesis/Second_step/scaffold_extraction/input_files/Mus musculus.txt', sep=\"\\t\", header=0)\n",
    "d3 = pd.read_csv('/home/uxue/Documents/Master_Thesis/Second_step/scaffold_extraction/input_files/Bos taurus.txt', sep=\"\\t\", header=0)\n",
    "d4 = pd.read_csv('/home/uxue/Documents/Master_Thesis/Second_step/scaffold_extraction/input_files/Rattus norvegicus.txt', sep=\"\\t\", header=0)\n",
    "\n",
    "df = pd.concat([d1,d2,d3,d4])\n",
    "#d1\n",
    "\n",
    "\n",
    "\n",
    "#df\n",
    "\n",
    "#Save into same .txt file\n",
    "\n",
    "#df.to_csv('/home/uxue/Documents/Master_Thesis/Second_step/scaffold_extraction/input_files/tab.txt', header=None, index=True, sep='\\t')\n"
   ]
  },
  {
   "cell_type": "code",
   "execution_count": null,
   "metadata": {
    "collapsed": false,
    "deletable": true,
    "editable": true,
    "scrolled": true
   },
   "outputs": [],
   "source": [
    "#Resetear los indices para que se numeren correctamente\n",
    "df = df.reset_index(drop=True)\n",
    "#df"
   ]
  },
  {
   "cell_type": "code",
   "execution_count": null,
   "metadata": {
    "collapsed": false,
    "deletable": true,
    "editable": true
   },
   "outputs": [],
   "source": [
    "#Find substructures and group them in a dictionary\n",
    "\n",
    "lista=set(df.smiles)\n",
    "suppl=[Chem.MolFromSmiles(s) for s in lista]\n",
    "match_dictionary={}\n",
    "for m, n in permutations(suppl, 2):\n",
    "    mm=Chem.MolToSmiles(m)\n",
    "    nn=Chem.MolToSmiles(n)\n",
    "    if nn not in match_dictionary.keys():\n",
    "        match_dictionary[nn]=[]\n",
    "    if m.HasSubstructMatch(n):\n",
    "        match_dictionary[nn].append(mm)\n",
    "\n",
    "#Remove keys with empty lists\n",
    "match_dictionary={k:v for k,v in match_dictionary.items() if len(v)>0}\n",
    "\n",
    "\n",
    "#Remove subgroups an leave only the big group with the biggest smile as key\n",
    "remove=[]\n",
    "base_keys = match_dictionary.keys()\n",
    "for key, values in match_dictionary.items():\n",
    "    for words in values:\n",
    "        for base_key in base_keys:\n",
    "            if base_key in words:\n",
    "                remove.append(base_key)\n",
    "\n",
    "for i in remove:\n",
    "    if i in match_dictionary.keys():\n",
    "        del match_dictionary[i]\n",
    "\n",
    "\n"
   ]
  },
  {
   "cell_type": "code",
   "execution_count": null,
   "metadata": {
    "collapsed": false,
    "deletable": true,
    "editable": true
   },
   "outputs": [],
   "source": [
    "vals=match_dictionary.values()\n",
    "print(list(vals))"
   ]
  },
  {
   "cell_type": "code",
   "execution_count": null,
   "metadata": {
    "collapsed": false,
    "deletable": true,
    "editable": true
   },
   "outputs": [],
   "source": [
    "#Sort dict by len(values)\n",
    "sorted(numbers.values())"
   ]
  },
  {
   "cell_type": "code",
   "execution_count": null,
   "metadata": {
    "collapsed": false,
    "deletable": true,
    "editable": true,
    "scrolled": true
   },
   "outputs": [],
   "source": [
    "#Visualize results\n",
    "from rdkit import Chem\n",
    "from rdkit.Chem import PandasTools\n",
    "import pandas as pd\n",
    "import os\n",
    "from rdkit import RDConfig\n",
    "\n",
    "sm=(list(match_dictionary.keys()))\n",
    "\n",
    "\n",
    "df_n = pd.DataFrame({'Smiles': sm})\n",
    "PandasTools.AddMoleculeColumnToFrame(df_n,'Smiles','Molecule',includeFingerprints=True)\n",
    "\n",
    "df_n"
   ]
  },
  {
   "cell_type": "code",
   "execution_count": null,
   "metadata": {
    "collapsed": false,
    "deletable": true,
    "editable": true,
    "scrolled": true
   },
   "outputs": [],
   "source": [
    "#Add a column for the scaffolds\n",
    "df['scaffold']=None\n",
    "scaffolds=[]\n",
    "for i, row in df.iterrows():\n",
    "    sc=[]\n",
    "    for key, values in match_dictionary.items():\n",
    "        if row['smiles'] in values:\n",
    "            sc.append(key)\n",
    "    if len(sc)==0:\n",
    "        sc.append(row['smiles'])\n",
    "    \n",
    "    scaffolds.append(sc)\n",
    "\n",
    "df.scaffold=scaffolds\n",
    "\n",
    "df\n"
   ]
  },
  {
   "cell_type": "code",
   "execution_count": null,
   "metadata": {
    "collapsed": false,
    "deletable": true,
    "editable": true
   },
   "outputs": [],
   "source": [
    "#Create new df with the smiles and corresponding scaffold for each one\n",
    "df1=pd.DataFrame({},columns=['freq','normfreq','organism','smiles','scaffold'])\n",
    "\n",
    "for i, row in df.iterrows():\n",
    "    sc=[]\n",
    "    for key, values in match_dictionary.items():\n",
    "        if row['smiles'] in values:\n",
    "            sc.append(key)\n",
    "    if len(sc)==0:\n",
    "        sc.append(row['smiles'])\n",
    "    for s in sc:\n",
    "        df1=df1.append({'freq':row['freq'],'normfreq':row['normfreq'], 'organism':row['organism'], 'smiles':row['smiles'],'scaffold': s},ignore_index=True)\n",
    "\n",
    "df1"
   ]
  },
  {
   "cell_type": "code",
   "execution_count": null,
   "metadata": {
    "collapsed": false,
    "deletable": true,
    "editable": true,
    "scrolled": true
   },
   "outputs": [],
   "source": [
    "sm=(list(df1.scaffold))\n",
    "\n",
    "\n",
    "df_n = pd.DataFrame({'Smiles': sm})\n",
    "PandasTools.AddMoleculeColumnToFrame(df_n,'Smiles','Molecule',includeFingerprints=True)\n",
    "\n",
    "df_n"
   ]
  },
  {
   "cell_type": "code",
   "execution_count": null,
   "metadata": {
    "collapsed": false,
    "deletable": true,
    "editable": true
   },
   "outputs": [],
   "source": [
    "#Create a graph to visulaize the scaffolds but not separation by species\n",
    "df1.groupby('scaffold').size().reset_index().sort_values(0,ascending=False).head(50).plot.bar(figsize=(110,60))\n",
    "\n",
    "# Add title and axis names\n",
    "plt.title('AChE')\n",
    "plt.ylabel('%')\n",
    "\n",
    "plt.rc('font', size=50)          # controls default text sizes\n",
    "plt.rc('axes', titlesize=70)     # fontsize of the axes title\n",
    "plt.rc('axes', labelsize=60)    # fontsize of the x and y labels\n",
    "plt.rc('xtick', labelsize=70)    # fontsize of the tick labels\n",
    "plt.rc('ytick', labelsize=70)    # fontsize of the tick labels\n",
    "plt.rc('legend', fontsize=70)    # legend fontsize\n",
    "plt.rc('figure', titlesize=100)  # fontsize of the figure title\n",
    "plt.show()\n",
    "plt.close()"
   ]
  },
  {
   "cell_type": "code",
   "execution_count": null,
   "metadata": {
    "collapsed": false,
    "deletable": true,
    "editable": true,
    "scrolled": true
   },
   "outputs": [],
   "source": [
    "#Save data in .txt table and plot \n",
    "df4 = pd.DataFrame(index=df1[\"scaffold\"].unique(), columns=df1[\"organism\"].unique())\n",
    "\n",
    "for i, row in df1.iterrows():\n",
    "    df4.loc[row[\"scaffold\"], row[\"organism\"]] = row[\"normfreq\"]\n",
    "\n",
    "df4.to_csv('/home/uxue/Documents/Master_Thesis/Definitivos/2/results2.txt', header=1, index=True, sep='\\t')\n",
    "#df4.plot.bar(figsize=(110,60))\n",
    "#\n",
    "## Add title and axis names\n",
    "#plt.title('DRD2')\n",
    "#plt.ylabel('%')\n",
    "#\n",
    "#plt.rc('font', size=50)          # controls default text sizes\n",
    "#plt.rc('axes', titlesize=70)     # fontsize of the axes title\n",
    "#plt.rc('axes', labelsize=60)    # fontsize of the x and y labels\n",
    "#plt.rc('xtick', labelsize=70)    # fontsize of the tick labels\n",
    "#plt.rc('ytick', labelsize=70)    # fontsize of the tick labels\n",
    "#plt.rc('legend', fontsize=70)    # legend fontsize\n",
    "#plt.rc('figure', titlesize=100)  # fontsize of the figure title\n",
    "#\n",
    "#plt.savefig('/home/uxue/Documents/Master_Thesis/fig2.png')\n",
    "#plt.show()\n",
    "#plt.close()\n",
    "df4\n"
   ]
  },
  {
   "cell_type": "code",
   "execution_count": null,
   "metadata": {
    "collapsed": false,
    "deletable": true,
    "editable": true
   },
   "outputs": [],
   "source": [
    "##### Save data in .txt table and plot \n",
    "df5 = pd.DataFrame(index=df1[\"scaffold\"].unique(), columns=df1[\"organism\"].unique())\n",
    "\n",
    "for i, row in df1.iterrows():\n",
    "    df5.loc[row[\"smiles\"], row[\"organism\"]] = row[\"scaffold\"]\n",
    "\n",
    "df5.to_csv('/home/uxue/Documents/Master_Thesis/Definitivos/2/results1.txt', header=1, index=True, sep='\\t')\n",
    "df5"
   ]
  },
  {
   "cell_type": "code",
   "execution_count": null,
   "metadata": {
    "collapsed": false,
    "deletable": true,
    "editable": true
   },
   "outputs": [],
   "source": [
    "#description=\n",
    "df5.describe()\n",
    "#description.to_csv('/home/uxue/Documents/Master_Thesis/Definitivos/2/description1.txt', header=1, index=True, sep='\\t')"
   ]
  },
  {
   "cell_type": "code",
   "execution_count": null,
   "metadata": {
    "collapsed": false,
    "deletable": true,
    "editable": true
   },
   "outputs": [],
   "source": [
    "##### Save data in .txt table and plot \n",
    "df6 = pd.DataFrame(index=df1[\"scaffold\"].unique(), columns=df1[\"organism\"].unique())\n",
    "\n",
    "for i, row in df1.iterrows():\n",
    "    df6.loc[row[\"smiles\"], row[\"organism\"]] = row[\"scaffold\"]\n",
    "\n",
    "df6.to_csv('/home/uxue/Documents/Master_Thesis/Definitivos/2/results2.txt', header=1, index=True, sep='\\t')\n",
    "df6"
   ]
  },
  {
   "cell_type": "code",
   "execution_count": null,
   "metadata": {
    "collapsed": false,
    "deletable": true,
    "editable": true
   },
   "outputs": [],
   "source": [
    "description=df6.describe()\n",
    "description.to_csv('/home/uxue/Documents/Master_Thesis/Definitivos/2/description2.txt', header=1, index=True, sep='\\t')"
   ]
  },
  {
   "cell_type": "code",
   "execution_count": null,
   "metadata": {
    "collapsed": true,
    "deletable": true,
    "editable": true
   },
   "outputs": [],
   "source": []
  }
 ],
 "metadata": {
  "kernelspec": {
   "display_name": "Python 3",
   "language": "python",
   "name": "python3"
  },
  "language_info": {
   "codemirror_mode": {
    "name": "ipython",
    "version": 3
   },
   "file_extension": ".py",
   "mimetype": "text/x-python",
   "name": "python",
   "nbconvert_exporter": "python",
   "pygments_lexer": "ipython3",
   "version": "3.5.2"
  }
 },
 "nbformat": 4,
 "nbformat_minor": 2
}
